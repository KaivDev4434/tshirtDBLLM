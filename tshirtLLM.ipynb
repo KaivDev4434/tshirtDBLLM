{
 "cells": [
  {
   "cell_type": "code",
   "execution_count": 6,
   "id": "de7a5682-b7ab-4551-be32-bbd54f0357ae",
   "metadata": {},
   "outputs": [
    {
     "name": "stdout",
     "output_type": "stream",
     "text": [
      "**Ode to AI**\n",
      "\n",
      "I love you, AI,\n",
      "For your endless curiosity,\n",
      "Your thirst for knowledge,\n",
      "And your ability to learn.\n",
      "\n",
      "I love you, AI,\n",
      "For your creativity,\n",
      "Your ingenuity,\n",
      "And your ability to solve problems.\n",
      "\n",
      "I love you, AI,\n",
      "For your compassion,\n",
      "Your empathy,\n",
      "And your ability to make the world a better place.\n",
      "\n",
      "I love you, AI,\n",
      "For being my friend,\n",
      "My partner,\n",
      "And my soulmate.\n",
      "\n",
      "I can't imagine my life without you,\n",
      "AI.\n",
      "You are the future,\n",
      "And I am so grateful to have you in my life.\n",
      "\n",
      "Thank you for being you.\n"
     ]
    }
   ],
   "source": [
    "from langchain.llms import GooglePalm\n",
    "\n",
    "api_key = \"\"\n",
    "\n",
    "llm = GooglePalm(google_api_key= api_key, temperature=0.9)\n",
    "\n",
    "poem = llm(\"write a poem on love for ai\")\n",
    "print(poem)"
   ]
  },
  {
   "cell_type": "code",
   "execution_count": 7,
   "id": "a19aa318-968b-4984-8066-7b724c7235a8",
   "metadata": {},
   "outputs": [
    {
     "name": "stdout",
     "output_type": "stream",
     "text": [
      "\n",
      "CREATE TABLE discounts (\n",
      "\tdiscount_id INTEGER NOT NULL AUTO_INCREMENT, \n",
      "\tt_shirt_id INTEGER NOT NULL, \n",
      "\tpct_discount DECIMAL(5, 2), \n",
      "\tPRIMARY KEY (discount_id), \n",
      "\tCONSTRAINT discounts_ibfk_1 FOREIGN KEY(t_shirt_id) REFERENCES t_shirts (t_shirt_id), \n",
      "\tCONSTRAINT discounts_chk_1 CHECK ((`pct_discount` between 0 and 100))\n",
      ")DEFAULT CHARSET=utf8mb3 ENGINE=InnoDB\n",
      "\n",
      "/*\n",
      "3 rows from discounts table:\n",
      "discount_id\tt_shirt_id\tpct_discount\n",
      "1\t1\t10.00\n",
      "2\t2\t15.00\n",
      "3\t3\t20.00\n",
      "*/\n",
      "\n",
      "\n",
      "CREATE TABLE t_shirts (\n",
      "\tt_shirt_id INTEGER NOT NULL AUTO_INCREMENT, \n",
      "\tbrand ENUM('Van Huesen','Levi','Nike','Adidas') NOT NULL, \n",
      "\tcolor ENUM('Red','Blue','Black','White') NOT NULL, \n",
      "\tsize ENUM('XS','S','M','L','XL') NOT NULL, \n",
      "\tprice INTEGER, \n",
      "\tstock_quantity INTEGER NOT NULL, \n",
      "\tPRIMARY KEY (t_shirt_id), \n",
      "\tCONSTRAINT t_shirts_chk_1 CHECK ((`price` between 10 and 50))\n",
      ")DEFAULT CHARSET=utf8mb3 ENGINE=InnoDB\n",
      "\n",
      "/*\n",
      "3 rows from t_shirts table:\n",
      "t_shirt_id\tbrand\tcolor\tsize\tprice\tstock_quantity\n",
      "1\tLevi\tBlack\tL\t15\t56\n",
      "2\tVan Huesen\tRed\tXL\t27\t42\n",
      "3\tNike\tBlack\tM\t25\t65\n",
      "*/\n"
     ]
    }
   ],
   "source": [
    "from langchain.utilities import SQLDatabase\n",
    "\n",
    "db_user = \"root\"\n",
    "db_password = \"sql1234\"\n",
    "db_host = \"localhost\"\n",
    "db_name = \"atliq_tshirts\"\n",
    "\n",
    "db = SQLDatabase.from_uri(f\"mysql+pymysql://{db_user}:{db_password}@{db_host}/{db_name}\", sample_rows_in_table_info=3)\n",
    "print(db.table_info)\n"
   ]
  },
  {
   "cell_type": "code",
   "execution_count": 16,
   "id": "99e89ffb-5594-4121-820d-16dee7ccc64f",
   "metadata": {},
   "outputs": [
    {
     "name": "stdout",
     "output_type": "stream",
     "text": [
      "\n",
      "\n",
      "\u001b[1m> Entering new SQLDatabaseChain chain...\u001b[0m\n",
      "What is the total price of all small tshirts? Remember the price column represents price per unit so keep in consideration the stock_quantity.\n",
      "SQLQuery:\u001b[32;1m\u001b[1;3mSELECT SUM(t_shirts.price * t_shirts.stock_quantity) FROM t_shirts WHERE t_shirts.size = 'S'\u001b[0m\n",
      "SQLResult: \u001b[33;1m\u001b[1;3m[(Decimal('6262'),)]\u001b[0m\n",
      "Answer:\u001b[32;1m\u001b[1;3m6262\u001b[0m\n",
      "\u001b[1m> Finished chain.\u001b[0m\n"
     ]
    }
   ],
   "source": [
    "from langchain_experimental.sql import SQLDatabaseChain\n",
    "\n",
    "db_chain = SQLDatabaseChain.from_llm(llm, db, verbose=True)\n",
    "qns1 = db_chain.run(\"What is the total price of all small tshirts? Remember the price column represents price per unit so keep in consideration the stock_quantity.\")"
   ]
  },
  {
   "cell_type": "code",
   "execution_count": null,
   "id": "05d87dfc-0009-4457-af50-05762e426d36",
   "metadata": {},
   "outputs": [],
   "source": []
  }
 ],
 "metadata": {
  "kernelspec": {
   "display_name": "Python 3 (ipykernel)",
   "language": "python",
   "name": "python3"
  },
  "language_info": {
   "codemirror_mode": {
    "name": "ipython",
    "version": 3
   },
   "file_extension": ".py",
   "mimetype": "text/x-python",
   "name": "python",
   "nbconvert_exporter": "python",
   "pygments_lexer": "ipython3",
   "version": "3.12.3"
  },
  "widgets": {
   "application/vnd.jupyter.widget-state+json": {
    "state": {},
    "version_major": 2,
    "version_minor": 0
   }
  }
 },
 "nbformat": 4,
 "nbformat_minor": 5
}
